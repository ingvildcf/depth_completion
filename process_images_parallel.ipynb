{
 "cells": [
  {
   "cell_type": "code",
   "execution_count": 1,
   "metadata": {},
   "outputs": [],
   "source": [
    "import glob\n",
    "import os\n",
    "import numpy as np\n",
    "from ip_basic.depth_map_utils import *\n",
    "from ip_basic.vis_utils import *\n",
    "from PIL import Image\n",
    "import time\n",
    "\n",
    "from concurrent.futures import ThreadPoolExecutor\n",
    "import threading\n",
    "import multiprocessing\n",
    "\n",
    "import pickle as pkl\n",
    "\n",
    "\n",
    "## Multithreading settings for saving pickle files\n",
    "MULTITHREADED_PROCESSING = False\n",
    "NUM_THREADS = 8\n"
   ]
  },
  {
   "cell_type": "code",
   "execution_count": 2,
   "metadata": {},
   "outputs": [],
   "source": [
    "MAX_DEPTH = 10.00\n",
    "DEPTH_PARAM1 = 351.30\n",
    "DEPTH_PARAM2 = 1092.50"
   ]
  },
  {
   "cell_type": "code",
   "execution_count": 3,
   "metadata": {},
   "outputs": [],
   "source": [
    "# Best settings so far: \n",
    "fill_type = 'fast'\n",
    "extrapolate = True\n",
    "blur_type = None\n",
    "\n",
    "# Fast fill kernels\n",
    "custom_kernel = DIAMOND_KERNEL_7\n",
    "morph_kernel = FULL_KERNEL_5\n",
    "dilation_kernel = FULL_KERNEL_7"
   ]
  },
  {
   "cell_type": "code",
   "execution_count": 4,
   "metadata": {},
   "outputs": [],
   "source": [
    "# Mutex and lock and global counter\n",
    "mutex = threading.Lock()\n",
    "pickle_counter = 0"
   ]
  },
  {
   "cell_type": "code",
   "execution_count": 5,
   "metadata": {},
   "outputs": [],
   "source": [
    "def convert_to_metres(depth_image):\n",
    "    return DEPTH_PARAM1 / (DEPTH_PARAM2 - depth_image)\n",
    "\n",
    "def read_pgm(filename):\n",
    "    \"\"\"Return a raster of integers from a PGM as a list of lists.\"\"\"\n",
    "    raster = []\n",
    "    try:\n",
    "        with open(filename, 'rb') as pgmf:\n",
    "            header = pgmf.readline()\n",
    "            assert header[:2] == b'P5'\n",
    "            (width, height) = [int(i) for i in header.split()[1:3]]\n",
    "            depth = int(header.split()[3])\n",
    "            assert depth <= 65535\n",
    "            for y in range(height):\n",
    "                row = []\n",
    "                for y in range(width):\n",
    "                    low_bits = ord(pgmf.read(1))\n",
    "                    row.append(low_bits+255*ord(pgmf.read(1)))\n",
    "                raster.append(row)\n",
    "    except:\n",
    "        print(\"Error reading file: {}\".format(filename))\n",
    "        return None\n",
    "    return np.array(raster)"
   ]
  },
  {
   "cell_type": "code",
   "execution_count": 6,
   "metadata": {},
   "outputs": [
    {
     "ename": "SyntaxError",
     "evalue": "invalid syntax (1139303687.py, line 9)",
     "output_type": "error",
     "traceback": [
      "\u001b[1;36m  Cell \u001b[1;32mIn [6], line 9\u001b[1;36m\u001b[0m\n\u001b[1;33m    .... something here\u001b[0m\n\u001b[1;37m                   ^\u001b[0m\n\u001b[1;31mSyntaxError\u001b[0m\u001b[1;31m:\u001b[0m invalid syntax\n"
     ]
    }
   ],
   "source": [
    "class SingleImageProcessSequence:\n",
    "    def __init__(self, projected_depths, final_depths, filled_depths):\n",
    "        self.projected_depths = projected_depths\n",
    "        self.final_depths = final_depths\n",
    "        self.filled_depths = filled_depths\n",
    "\n",
    "# # Code to fill unknown pixels with the nearest known pixel\n",
    "# def fill_empty_spaces(depth_image):\n",
    "#     .... something here\n",
    "\n",
    "\n",
    "def process_images_multithreaded(depth_image_list):\n",
    "    # Declare global variables from above snippet\n",
    "    global MAX_DEPTH\n",
    "    global DEPTH_PARAM1\n",
    "    global DEPTH_PARAM2\n",
    "    global fill_type\n",
    "    global extrapolate\n",
    "    global blur_type\n",
    "    global custom_kernel\n",
    "    global morph_kernel\n",
    "    global dilation_kernel\n",
    "    global pickle_counter\n",
    "\n",
    "    image_array = []\n",
    "    image_num = 0\n",
    "    for depth_path in depth_image_list:\n",
    "        print(image_num)\n",
    "        try:\n",
    "            # Read depth image\n",
    "            depth_image = read_pgm(depth_path)\n",
    "\n",
    "            # Convert to metres\n",
    "            projected_depths = convert_to_metres(depth_image)\n",
    "            projected_depths = np.clip(projected_depths, 0, MAX_DEPTH - 0.03)\n",
    "            projected_depths = (projected_depths).astype(np.float32)\n",
    "\n",
    "            # Fill in\n",
    "            if fill_type == 'fast':\n",
    "                completed_depths = fill_in_fast(\n",
    "                    projected_depths, max_depth=MAX_DEPTH, extrapolate=extrapolate, blur_type=blur_type, \n",
    "                    morph_kernel=morph_kernel, dilation_kernel=dilation_kernel)\n",
    "                filled_depths = fill_empty_spaces(completed_depths)\n",
    "                image_array.append(SingleImageProcessSequence(projected_depths, completed_depths, filled_depths))\n",
    "                # image_array.append(final_depths)\n",
    "            else:\n",
    "                raise ValueError('Invalid fill_type {}'.format(fill_type))\n",
    "        except:\n",
    "            print(\"Error processing file: {}\".format(depth_path))\n",
    "            continue\n",
    "    \n",
    "    # save image array as a pickle\n",
    "    mutex.acquire()\n",
    "    pickle_counter += 1\n",
    "    pickle_filename = 'pickle_' + str(pickle_counter) + '.pkl'\n",
    "    mutex.release()\n",
    "\n",
    "    with open(pickle_filename, 'wb') as f:\n",
    "        pkl.dump(image_array, f)\n",
    "        print(\"Dumped one pickle\")\n"
   ]
  },
  {
   "cell_type": "code",
   "execution_count": 7,
   "metadata": {},
   "outputs": [
    {
     "name": "stdout",
     "output_type": "stream",
     "text": [
      "Number of lists: 16\n",
      "Number of depth images: 158662\n",
      "Number of depth images to process: 15867\n"
     ]
    }
   ],
   "source": [
    "# List all file paths of all files with .pgm extension in a list recursively\n",
    "# depth_image_paths = glob.glob('/media/mihir/MKSSD/misc_offices_playroom_reception_studies_study_rooms/**/*.pgm', recursive=True)\n",
    "# depth_image_paths = glob.glob('/media/mihir/MKSSD/cafe_dining_furniture_home_off_kitchen_libraries_living_rooms/**/*.pgm', recursive=True)\n",
    "depth_image_paths = glob.glob('/media/mihir/MKSSD/basements_bedrooms_bathrooms_bookstores/**/*.pgm', recursive=True)\n",
    "\n",
    "tenth_of_depth_images = depth_image_paths[::10]\n",
    "\n",
    "save_to_file(tenth_of_depth_images)\n",
    "\n",
    "\n",
    "\n",
    "size_per_pickle = 1000\n",
    "list_of_lists = [tenth_of_depth_images[i:i + size_per_pickle] for i in range(0, len(tenth_of_depth_images), size_per_pickle)]\n",
    "\n",
    "print(\"Number of lists: {}\".format(len(list_of_lists)))\n",
    "\n",
    "print('Number of depth images: {}'.format(len(depth_image_paths)))\n",
    "print('Number of depth images to process: {}'.format(len(tenth_of_depth_images)))"
   ]
  },
  {
   "cell_type": "code",
   "execution_count": 8,
   "metadata": {},
   "outputs": [
    {
     "name": "stdout",
     "output_type": "stream",
     "text": [
      "Global counter: 0\n",
      "Processing list 0\n",
      "Global counter: 1\n",
      "Processing list 1\n",
      "Global counter: 2\n",
      "Processing list 2\n",
      "Global counter: 3\n",
      "Processing list 3\n",
      "Error reading file: /media/mihir/MKSSD/basements_bedrooms_bathrooms_bookstores/bedrooms_part1/bedroom_0002/d-1294599020.394699-1677996343.pgm\n",
      "Error processing file: /media/mihir/MKSSD/basements_bedrooms_bathrooms_bookstores/bedrooms_part1/bedroom_0002/d-1294599020.394699-1677996343.pgm\n",
      "Global counter: 4\n",
      "Processing list 4\n",
      "Global counter: 5\n",
      "Processing list 5\n",
      "Global counter: 6\n",
      "Processing list 6\n",
      "Global counter: 7\n",
      "Processing list 7\n",
      "Global counter: 8\n",
      "Processing list 8\n",
      "Global counter: 9\n",
      "Processing list 9\n",
      "Global counter: 10\n",
      "Processing list 10\n",
      "Global counter: 11\n",
      "Processing list 11\n",
      "Error reading file: /media/mihir/MKSSD/basements_bedrooms_bathrooms_bookstores/bedrooms_part6/bedroom_0111/d-1315239083.116235-3655284704.pgm\n",
      "Error processing file: /media/mihir/MKSSD/basements_bedrooms_bathrooms_bookstores/bedrooms_part6/bedroom_0111/d-1315239083.116235-3655284704.pgm\n",
      "Error reading file: /media/mihir/MKSSD/basements_bedrooms_bathrooms_bookstores/bedrooms_part7/bedroom_0126/d-1315326390.420959-3576820614.pgm\n",
      "Error processing file: /media/mihir/MKSSD/basements_bedrooms_bathrooms_bookstores/bedrooms_part7/bedroom_0126/d-1315326390.420959-3576820614.pgm\n",
      "Global counter: 12\n",
      "Processing list 12\n",
      "Global counter: 13\n",
      "Processing list 13\n",
      "Global counter: 14\n",
      "Processing list 14\n",
      "Global counter: 15\n",
      "Processing list 15\n",
      "Error reading file: /media/mihir/MKSSD/basements_bedrooms_bathrooms_bookstores/bookstore_part3/bookstore_0001l/d-1295526856.377625-391062763.pgm\n",
      "Error processing file: /media/mihir/MKSSD/basements_bedrooms_bathrooms_bookstores/bookstore_part3/bookstore_0001l/d-1295526856.377625-391062763.pgm\n"
     ]
    }
   ],
   "source": [
    "# Run multiple processes to call process_images_multithreaded on each depth image\n",
    "if MULTITHREADED_PROCESSING:\n",
    "    with ThreadPoolExecutor(max_workers=NUM_THREADS) as executor:\n",
    "        for result in executor.map(process_images_multithreaded, list_of_lists):\n",
    "            print(\"Finished thread\")\n",
    "else:\n",
    "    for i in range(len(list_of_lists)):\n",
    "        print(\"Global counter: {}\".format(pickle_counter))\n",
    "        print(\"Processing list {}\".format(i))\n",
    "        process_images_multithreaded(list_of_lists[i])\n"
   ]
  }
 ],
 "metadata": {
  "kernelspec": {
   "display_name": "Python 3.10.8 64-bit (microsoft store)",
   "language": "python",
   "name": "python3"
  },
  "language_info": {
   "codemirror_mode": {
    "name": "ipython",
    "version": 3
   },
   "file_extension": ".py",
   "mimetype": "text/x-python",
   "name": "python",
   "nbconvert_exporter": "python",
   "pygments_lexer": "ipython3",
   "version": "3.10.8 (tags/v3.10.8:aaaf517, Oct 11 2022, 16:50:30) [MSC v.1933 64 bit (AMD64)]"
  },
  "orig_nbformat": 4,
  "vscode": {
   "interpreter": {
    "hash": "246279ad4a3bfb1f340db186b7bcef568bb2ca5d814e72eb7f8e96677295d5b4"
   }
  }
 },
 "nbformat": 4,
 "nbformat_minor": 2
}
